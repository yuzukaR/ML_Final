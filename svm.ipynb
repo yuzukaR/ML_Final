{
 "cells": [
  {
   "cell_type": "code",
   "execution_count": 1,
   "id": "76e49cea",
   "metadata": {},
   "outputs": [
    {
     "name": "stdout",
     "output_type": "stream",
     "text": [
      "\n",
      "=== SVM on Original Scaled Data ===\n",
      "C=0.01 --> Accuracy: 0.2855\n",
      "C=0.1 --> Accuracy: 0.3121\n",
      "C=0.5 --> Accuracy: 0.3165\n",
      "C=1 --> Accuracy: 0.3177\n",
      "C=10 --> Accuracy: 0.3187\n",
      "C=100 --> Accuracy: 0.3191\n"
     ]
    }
   ],
   "source": [
    "import pandas as pd\n",
    "import numpy as np\n",
    "from sklearn.preprocessing import StandardScaler, PolynomialFeatures\n",
    "from sklearn.decomposition import PCA\n",
    "from sklearn.svm import SVC\n",
    "from sklearn.model_selection import train_test_split\n",
    "from sklearn.metrics import accuracy_score\n",
    "\n",
    "# Step 2: Load training data\n",
    "X_train = pd.read_csv('X_train.csv')\n",
    "y_train = pd.read_csv('y_train.csv')\n",
    "\n",
    "# Flatten y_train if needed\n",
    "y_train = y_train.values.ravel()\n",
    "\n",
    "# Step 3: Define regularization values\n",
    "C_values = [0.01, 0.1, 0.5, 1, 10, 100]\n",
    "\n",
    "# Step 4: Prepare storage for results\n",
    "results = {\n",
    "    'No Transform': [],\n",
    "    'Polynomial Features': [],\n",
    "    'PCA': [],\n",
    "    'RBF Kernel': []\n",
    "}\n",
    "\n",
    "# Step 5: Scaling\n",
    "scaler = StandardScaler()\n",
    "X_scaled = scaler.fit_transform(X_train)\n",
    "\n",
    "# Step 6: Different Transformations\n",
    "\n",
    "# --- No Transform ---\n",
    "print(\"\\n=== SVM on Original Scaled Data ===\")\n",
    "for C in C_values:\n",
    "    model = SVC(C=C, kernel='linear', random_state=42)\n",
    "    model.fit(X_scaled, y_train)\n",
    "    y_pred = model.predict(X_scaled)\n",
    "    acc = accuracy_score(y_train, y_pred)\n",
    "    results['No Transform'].append((C, acc))\n",
    "    print(f\"C={C} --> Accuracy: {acc:.4f}\")"
   ]
  },
  {
   "cell_type": "code",
   "execution_count": 2,
   "id": "7974f33d",
   "metadata": {},
   "outputs": [
    {
     "name": "stdout",
     "output_type": "stream",
     "text": [
      "\n",
      "=== SVM on Polynomial Features ===\n",
      "C=0.01 --> Accuracy: 0.3312\n",
      "C=0.1 --> Accuracy: 0.3759\n",
      "C=0.5 --> Accuracy: 0.3929\n",
      "C=1 --> Accuracy: 0.3968\n",
      "C=10 --> Accuracy: 0.4097\n",
      "C=100 --> Accuracy: 0.4223\n"
     ]
    }
   ],
   "source": [
    "# --- Polynomial Features ---\n",
    "print(\"\\n=== SVM on Polynomial Features ===\")\n",
    "poly = PolynomialFeatures(degree=2)\n",
    "X_poly = poly.fit_transform(X_scaled)\n",
    "\n",
    "for C in C_values:\n",
    "    model = SVC(C=C, kernel='linear', random_state=42)\n",
    "    model.fit(X_poly, y_train)\n",
    "    y_pred = model.predict(X_poly)\n",
    "    acc = accuracy_score(y_train, y_pred)\n",
    "    results['Polynomial Features'].append((C, acc))\n",
    "    print(f\"C={C} --> Accuracy: {acc:.4f}\")\n"
   ]
  },
  {
   "cell_type": "code",
   "execution_count": 3,
   "id": "5edbd9f3",
   "metadata": {},
   "outputs": [
    {
     "name": "stdout",
     "output_type": "stream",
     "text": [
      "\n",
      "=== SVM on PCA-transformed Data ===\n",
      "C=0.01 --> Accuracy: 0.2841\n",
      "C=0.1 --> Accuracy: 0.3053\n",
      "C=0.5 --> Accuracy: 0.3113\n",
      "C=1 --> Accuracy: 0.3127\n",
      "C=10 --> Accuracy: 0.3134\n",
      "C=100 --> Accuracy: 0.3132\n"
     ]
    }
   ],
   "source": [
    "# --- PCA Transformation ---\n",
    "print(\"\\n=== SVM on PCA-transformed Data ===\")\n",
    "pca = PCA(n_components=10)  # keep top 10 components\n",
    "X_pca = pca.fit_transform(X_scaled)\n",
    "\n",
    "for C in C_values:\n",
    "    model = SVC(C=C, kernel='linear', random_state=42)\n",
    "    model.fit(X_pca, y_train)\n",
    "    y_pred = model.predict(X_pca)\n",
    "    acc = accuracy_score(y_train, y_pred)\n",
    "    results['PCA'].append((C, acc))\n",
    "    print(f\"C={C} --> Accuracy: {acc:.4f}\")"
   ]
  },
  {
   "cell_type": "code",
   "execution_count": 4,
   "id": "88c5cd67",
   "metadata": {},
   "outputs": [
    {
     "name": "stdout",
     "output_type": "stream",
     "text": [
      "\n",
      "=== SVM with RBF Kernel ===\n",
      "C=0.01 --> Accuracy: 0.2003\n",
      "C=0.1 --> Accuracy: 0.2913\n",
      "C=0.5 --> Accuracy: 0.3450\n",
      "C=1 --> Accuracy: 0.3679\n",
      "C=10 --> Accuracy: 0.4326\n",
      "C=100 --> Accuracy: 0.5114\n"
     ]
    }
   ],
   "source": [
    "# --- RBF Kernel (no transformation needed) ---\n",
    "print(\"\\n=== SVM with RBF Kernel ===\")\n",
    "for C in C_values:\n",
    "    model = SVC(C=C, kernel='rbf', gamma='scale', random_state=42)\n",
    "    model.fit(X_scaled, y_train)\n",
    "    y_pred = model.predict(X_scaled)\n",
    "    acc = accuracy_score(y_train, y_pred)\n",
    "    results['RBF Kernel'].append((C, acc))\n",
    "    print(f\"C={C} --> Accuracy: {acc:.4f}\")"
   ]
  }
 ],
 "metadata": {
  "kernelspec": {
   "display_name": "SE",
   "language": "python",
   "name": "python3"
  },
  "language_info": {
   "codemirror_mode": {
    "name": "ipython",
    "version": 3
   },
   "file_extension": ".py",
   "mimetype": "text/x-python",
   "name": "python",
   "nbconvert_exporter": "python",
   "pygments_lexer": "ipython3",
   "version": "3.9.20"
  }
 },
 "nbformat": 4,
 "nbformat_minor": 5
}
