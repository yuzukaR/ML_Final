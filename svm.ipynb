{
 "cells": [
  {
   "cell_type": "code",
   "execution_count": 2,
   "id": "76e49cea",
   "metadata": {},
   "outputs": [],
   "source": [
    "import pandas as pd\n",
    "import numpy as np\n",
    "from sklearn.preprocessing import StandardScaler, PolynomialFeatures\n",
    "from sklearn.decomposition import PCA\n",
    "from sklearn.model_selection import train_test_split\n",
    "from sklearn.svm import SVC\n",
    "from sklearn.metrics import accuracy_score\n",
    "\n",
    "# Load the training and test sets\n",
    "X_train = pd.read_csv('X_train.csv')\n",
    "X_test = pd.read_csv('X_test.csv')\n",
    "y_train = pd.read_csv('y_train.csv')\n",
    "y_test = pd.read_csv('y_test.csv')\n",
    "y_train = y_train.values.ravel()\n",
    "y_test = y_test.values.ravel()\n",
    "\n",
    "# Standardize\n",
    "scaler = StandardScaler()\n",
    "X_train_scaled = scaler.fit_transform(X_train)\n",
    "X_test_scaled = scaler.transform(X_test)\n",
    "\n",
    "results = {\n",
    "    'No Transform': [],\n",
    "    'Poly Degree 2': [],\n",
    "    'Poly Degree 3': [],\n",
    "    'Poly Degree 4': [],\n",
    "    'Log Transform': [],\n",
    "    'RBF Kernel': []\n",
    "}\n"
   ]
  },
  {
   "cell_type": "code",
   "execution_count": 3,
   "id": "2d4201e2",
   "metadata": {},
   "outputs": [
    {
     "name": "stdout",
     "output_type": "stream",
     "text": [
      "\n",
      "=== Linear SVM (No Transform) ===\n",
      "C=0.01 --> Accuracy: 0.2628\n",
      "C=0.1 --> Accuracy: 0.3040\n",
      "C=1 --> Accuracy: 0.2986\n",
      "C=10 --> Accuracy: 0.3005\n",
      "C=100 --> Accuracy: 0.2981\n",
      "C=500 --> Accuracy: 0.2991\n"
     ]
    }
   ],
   "source": [
    "# --- No Transform ---\n",
    "C_values = [0.01, 0.1, 1, 10, 100, 500]\n",
    "print(\"\\n=== Linear SVM (No Transform) ===\")\n",
    "for C in C_values:\n",
    "    model = SVC(C=C, kernel='linear', random_state=42)\n",
    "    model.fit(X_train_scaled, y_train)\n",
    "    y_pred = model.predict(X_test_scaled)\n",
    "    acc = accuracy_score(y_test, y_pred)\n",
    "    results['No Transform'].append((C, acc))\n",
    "    print(f\"C={C} --> Accuracy: {acc:.4f}\")\n"
   ]
  },
  {
   "cell_type": "code",
   "execution_count": null,
   "id": "7974f33d",
   "metadata": {},
   "outputs": [
    {
     "name": "stdout",
     "output_type": "stream",
     "text": [
      "\n",
      "=== Linear SVM (Polynomial Features Degree 2) ===\n",
      "C=0.01 --> Accuracy: 0.2912\n",
      "C=0.1 --> Accuracy: 0.3314\n",
      "C=1 --> Accuracy: 0.3568\n",
      "C=10 --> Accuracy: 0.3617\n",
      "C=100 --> Accuracy: 0.3647\n"
     ]
    }
   ],
   "source": [
    "# --- Polynomial Features ---\n",
    "C_values = [0.01, 0.1, 1, 10, 100, 500]\n",
    "for degree in [2, 3, 4]:\n",
    "    print(f\"\\n=== Linear SVM (Polynomial Features Degree {degree}) ===\")\n",
    "    poly = PolynomialFeatures(degree=degree)\n",
    "    X_train_poly = poly.fit_transform(X_train_scaled)\n",
    "    X_test_poly = poly.transform(X_test_scaled)\n",
    "    \n",
    "    for C in C_values:\n",
    "        model = SVC(C=C, kernel='linear', random_state=42)\n",
    "        model.fit(X_train_poly, y_train)\n",
    "        y_pred = model.predict(X_test_poly)\n",
    "        acc = accuracy_score(y_test, y_pred)\n",
    "        results[f'Poly Degree {degree}'].append((C, acc))\n",
    "        print(f\"C={C} --> Accuracy: {acc:.4f}\")"
   ]
  },
  {
   "cell_type": "code",
   "execution_count": null,
   "id": "5edbd9f3",
   "metadata": {},
   "outputs": [
    {
     "name": "stdout",
     "output_type": "stream",
     "text": [
      "\n",
      "=== SVM on PCA-transformed Data ===\n",
      "C=0.01 --> Accuracy: 0.2673\n",
      "C=0.1 --> Accuracy: 0.2932\n",
      "C=1 --> Accuracy: 0.3059\n",
      "C=10 --> Accuracy: 0.3059\n",
      "C=100 --> Accuracy: 0.3059\n"
     ]
    }
   ],
   "source": [
    "C_values = [0.01, 0.1, 1, 10, 100, 500]\n",
    "# --- 3. Hand-designed Log Transform ---\n",
    "print(\"\\n=== Linear SVM (Log Transform) ===\")\n",
    "# To avoid log(0), we add a small constant (1e-5)\n",
    "X_train_log = np.log(X_train_scaled + 1e-5 - np.min(X_train_scaled))\n",
    "X_test_log = np.log(X_test_scaled + 1e-5 - np.min(X_train_scaled))\n",
    "\n",
    "for C in C_values:\n",
    "    model = SVC(C=C, kernel='linear', random_state=42)\n",
    "    model.fit(X_train_log, y_train)\n",
    "    y_pred = model.predict(X_test_log)\n",
    "    acc = accuracy_score(y_test, y_pred)\n",
    "    results['Log Transform'].append((C, acc))\n",
    "    print(f\"C={C} --> Accuracy: {acc:.4f}\")"
   ]
  },
  {
   "cell_type": "code",
   "execution_count": null,
   "id": "88c5cd67",
   "metadata": {},
   "outputs": [
    {
     "name": "stdout",
     "output_type": "stream",
     "text": [
      "\n",
      "=== SVM with RBF Kernel ===\n",
      "C=0.01 --> Accuracy: 0.1747\n",
      "C=0.1 --> Accuracy: 0.2570\n",
      "C=1 --> Accuracy: 0.3231\n",
      "C=10 --> Accuracy: 0.3539\n",
      "C=100 --> Accuracy: 0.3647\n",
      "C=1000 --> Accuracy: 0.3583\n"
     ]
    }
   ],
   "source": [
    "# --- RBF Kernel (no transformation needed) ---\n",
    "C_values = [0.01, 0.1, 1, 10, 100, 500]\n",
    "# --- 4. RBF Kernel ---\n",
    "print(\"\\n=== SVM with RBF Kernel ===\")\n",
    "for C in C_values:\n",
    "    model = SVC(C=C, kernel='rbf', gamma='scale', random_state=42)\n",
    "    model.fit(X_train_scaled, y_train)\n",
    "    y_pred = model.predict(X_test_scaled)\n",
    "    acc = accuracy_score(y_test, y_pred)\n",
    "    results['RBF Kernel'].append((C, acc))\n",
    "    print(f\"C={C} --> Accuracy: {acc:.4f}\")"
   ]
  }
 ],
 "metadata": {
  "kernelspec": {
   "display_name": "base",
   "language": "python",
   "name": "python3"
  },
  "language_info": {
   "codemirror_mode": {
    "name": "ipython",
    "version": 3
   },
   "file_extension": ".py",
   "mimetype": "text/x-python",
   "name": "python",
   "nbconvert_exporter": "python",
   "pygments_lexer": "ipython3",
   "version": "3.12.9"
  }
 },
 "nbformat": 4,
 "nbformat_minor": 5
}
